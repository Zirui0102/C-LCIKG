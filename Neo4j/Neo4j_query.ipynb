{
 "cells": [
  {
   "cell_type": "code",
   "execution_count": 1,
   "id": "9d059036-1162-4552-a4ae-0bc3bbc16cc3",
   "metadata": {},
   "outputs": [],
   "source": [
    "import os\n",
    "import pandas as pd\n",
    "import numpy as np\n",
    "from langchain_community.graphs import Neo4jGraph\n",
    "from openai import OpenAI\n",
    "from sklearn.metrics.pairwise import cosine_similarity\n",
    "from langchain.vectorstores.neo4j_vector import Neo4jVector\n",
    "from langchain_openai import OpenAIEmbeddings\n",
    "from langchain_community.vectorstores import Neo4jVector\n",
    "from langchain.chains import RetrievalQAWithSourcesChain\n",
    "from langchain.prompts.prompt import PromptTemplate\n",
    "from langchain.chains import GraphCypherQAChain\n",
    "from langchain_openai import ChatOpenAI"
   ]
  },
  {
   "cell_type": "code",
   "execution_count": 4,
   "id": "9eed85f4-951d-407a-ae2b-b691236590cd",
   "metadata": {},
   "outputs": [],
   "source": [
    "#Initial the Neo4j dataset\n",
    "NEO4J_URL = os.getenv('NEO4J_URL')\n",
    "NEO4J_USERNAME = os.getenv('NEO4J_USERNAME')\n",
    "NEO4J_PASSWORD = os.getenv('NEO4J_PASSWORD')\n",
    "\n",
    "kg = Neo4jGraph(\n",
    "    url=NEO4J_URL, username=NEO4J_USERNAME, password=NEO4J_PASSWORD\n",
    ")"
   ]
  },
  {
   "cell_type": "code",
   "execution_count": 5,
   "id": "17b06cd5-f618-4806-ae6c-8209b25371ca",
   "metadata": {},
   "outputs": [],
   "source": [
    "#initial the openai_api_key\n",
    "openai_api_key= os.environ.get(\"OPENAI_API_KEY_SBR\")"
   ]
  },
  {
   "cell_type": "markdown",
   "id": "b2cd3ddd-d3f5-479a-a31f-9b825cc97d7d",
   "metadata": {},
   "source": [
    "**1. Querying the knowledge graph using Cypher**"
   ]
  },
  {
   "cell_type": "code",
   "execution_count": 6,
   "id": "ec37b548-6564-4695-9320-3bf0596366ef",
   "metadata": {},
   "outputs": [
    {
     "data": {
      "text/plain": [
       "[{'numberOfNodes': 6161}]"
      ]
     },
     "execution_count": 6,
     "metadata": {},
     "output_type": "execute_result"
    }
   ],
   "source": [
    "#calculate total nodes\n",
    "cypher = \"\"\"\n",
    "  MATCH (n) \n",
    "  RETURN count(n) AS numberOfNodes\n",
    "  \"\"\"\n",
    "kg.query(cypher)"
   ]
  },
  {
   "cell_type": "code",
   "execution_count": 7,
   "id": "2048d344-3c71-4050-8da6-487fddd1307f",
   "metadata": {},
   "outputs": [
    {
     "data": {
      "text/plain": [
       "[{'numberOfActivity': 132}]"
      ]
     },
     "execution_count": 7,
     "metadata": {},
     "output_type": "execute_result"
    }
   ],
   "source": [
    "#calculate total activities\n",
    "cypher = \"\"\"\n",
    "  MATCH (A:Activity) \n",
    "  RETURN count(A) AS numberOfActivity\n",
    "  \"\"\"\n",
    "kg.query(cypher)"
   ]
  },
  {
   "cell_type": "code",
   "execution_count": 8,
   "id": "d487ae08-e8f1-4429-81af-fbadf0f2fde0",
   "metadata": {},
   "outputs": [
    {
     "name": "stdout",
     "output_type": "stream",
     "text": [
      "Methanol\n",
      "Formic acid\n",
      "Ethylene\n",
      "Ethylene oxide\n",
      "Ethylene glycol\n",
      "Acetic acid\n",
      "Propylene\n",
      "Propylene oxide\n",
      "Propylene glycol\n",
      "Lactic acid\n",
      "Acrylic acid\n",
      "Acrolein\n",
      "Acrylonitrile\n",
      "Succinic acid\n",
      "Butanol\n",
      "1,3-Butadiene\n",
      "Isobutylene\n",
      "Itaconic acid\n",
      "Xylitol\n",
      "Furfural \n",
      "Levulinic acid\n",
      "FDCA\n",
      "Citric acid \n",
      "Sorbitol\n",
      "p-Xylene\n"
     ]
    }
   ],
   "source": [
    "#list all chemicals in the database\n",
    "cypher = \"\"\"\n",
    "    MATCH (c:Target_Chemical)\n",
    "    return c\n",
    "    \"\"\"\n",
    "data = kg.query(cypher)\n",
    "for chemical in data:\n",
    "    print(chemical['c']['name'])"
   ]
  },
  {
   "cell_type": "code",
   "execution_count": 9,
   "id": "c410672e-b54f-4426-a4eb-4002c9a35538",
   "metadata": {},
   "outputs": [
    {
     "data": {
      "text/plain": [
       "[{'Paper_title': 'Techno-economic and environmental assessments for sustainable bio-methanol production as landfill gas valorization',\n",
       "  'Author': 'Choe et al.',\n",
       "  'Published_year': 2022},\n",
       " {'Paper_title': 'From Secondary Biomass to Bio-Methanol through CONVERGE Technology: An Environmental Analysis',\n",
       "  'Author': 'Galusnyak et al.',\n",
       "  'Published_year': 2023},\n",
       " {'Paper_title': 'Life Cycle Assessment of Bio-methanol Derived from Various Raw-materials',\n",
       "  'Author': 'Galusnyak et al.',\n",
       "  'Published_year': 2021},\n",
       " {'Paper_title': 'A LCA (life cycle assessment) of the methanol production from sugarcane bagasse',\n",
       "  'Author': 'Reno et al.',\n",
       "  'Published_year': 2011},\n",
       " {'Paper_title': 'A Comprehensive Assessment of the Carbon Footprint of the Coal-to-Methanol Process Coupled with Carbon Capture-, Utilization-, and Storage-Enhanced Oil Recovery Technology',\n",
       "  'Author': 'Li et al.',\n",
       "  'Published_year': 2024},\n",
       " {'Paper_title': 'Transition into Net-Zero Carbon Community from Fossil Fuels: Life Cycle Assessment of Light-Driven CO2 Conversion to Methanol Using Graphitic Carbon Nitride',\n",
       "  'Author': 'Ling et al.',\n",
       "  'Published_year': 2023},\n",
       " {'Paper_title': 'Methanol Production from Solid Recovered Fuel and Lignite: Techno-Economic and Environmental Assessment',\n",
       "  'Author': 'Rolfe et al.',\n",
       "  'Published_year': 2022},\n",
       " {'Paper_title': 'LCA comparison analysis for two types of H2 carriers: Methanol and ammonia',\n",
       "  'Author': 'Zhu et al.',\n",
       "  'Published_year': 2022},\n",
       " {'Paper_title': 'Life cycle assessment and economic analysis of methanol production from coke oven gas compared with coal and natural gas routes',\n",
       "  'Author': 'Li et al.',\n",
       "  'Published_year': 2018},\n",
       " {'Paper_title': 'Alternative sustainable routes to methanol production: Techno-economic and environmental assessment',\n",
       "  'Author': 'Scomazzon et al.',\n",
       "  'Published_year': 2024},\n",
       " {'Paper_title': 'A techno-economic and life cycle assessment for the production of green methanol from CO2: catalyst and process bottlenecks',\n",
       "  'Author': 'Cordero-Lanzac et al.',\n",
       "  'Published_year': 2022},\n",
       " {'Paper_title': 'Integrating life cycle assessment for design and optimization of methanol production from combining methane dry reforming and partial oxidation',\n",
       "  'Author': 'Nguyen et al.',\n",
       "  'Published_year': 2021},\n",
       " {'Paper_title': 'Building an agent-based techno-economic assessment coupled with life cycle assessment of biomass to methanol supply chains',\n",
       "  'Author': 'Nugroho et al.',\n",
       "  'Published_year': 2021},\n",
       " {'Paper_title': 'Technoeconomic and Life Cycle Analysis of Synthetic Methanol Production from Hydrogen and Industrial Byproduct CO2',\n",
       "  'Author': 'Zang et al.',\n",
       "  'Published_year': 2021},\n",
       " {'Paper_title': 'Exploring biomass addition in methanol production: A life cycle analysis of efficiency and environmental impacts',\n",
       "  'Author': 'Liu et al.',\n",
       "  'Published_year': 2024},\n",
       " {'Paper_title': 'Unveiling environmental impacts of methanol production via electrocatalysis against conventional and thermochemical routes by life cycle assessment',\n",
       "  'Author': 'Lin et al.',\n",
       "  'Published_year': 2023},\n",
       " {'Paper_title': 'Environmental life cycle assessment of methanol and electricity co-production system based on coal gasification technology',\n",
       "  'Author': 'Śliwińska et al.',\n",
       "  'Published_year': 2017},\n",
       " {'Paper_title': 'Comprehensive analysis of environmental impacts and energy consumption of biomass-to-methanol and coal-to-methanol via life cycle assessment',\n",
       "  'Author': 'Liu et al.',\n",
       "  'Published_year': 2020},\n",
       " {'Paper_title': 'Life Cycle Assessment of Carbon Dioxide-Based Production of Methane and Methanol and Derived Polymers',\n",
       "  'Author': 'Hoppe et al.',\n",
       "  'Published_year': 2017},\n",
       " {'Paper_title': 'Bridge to zero-emission: Life cycle assessment of CO2-methanol conversion process and energy optimization',\n",
       "  'Author': 'Ryoo et al.',\n",
       "  'Published_year': 2021},\n",
       " {'Paper_title': 'Energy consumption and greenhouse gas emissions of shale gas chemical looping reforming process integrated with coal gasification for methanol production',\n",
       "  'Author': 'Xiang et al.',\n",
       "  'Published_year': 2021},\n",
       " {'Paper_title': 'Olive pomace versus natural gas for methanol production: a life cycle assessment',\n",
       "  'Author': 'Puig-Gamero et al.',\n",
       "  'Published_year': 2021},\n",
       " {'Paper_title': 'Innovative alternatives to methanol manufacture: Carbon footprint assessment',\n",
       "  'Author': 'Rumayor et al.',\n",
       "  'Published_year': 2019},\n",
       " {'Paper_title': 'Life-cycle assessment for coal-based methanol production in China',\n",
       "  'Author': 'Li et al.',\n",
       "  'Published_year': 2018},\n",
       " {'Paper_title': 'Greenhouse gas emissions of rice straw-to-methanol chain in Southern Brazil',\n",
       "  'Author': 'Silva et al.',\n",
       "  'Published_year': 2021},\n",
       " {'Paper_title': 'Comparative environmental assessment of methanol production technologies: A cradle-to-gate life cycle analysis',\n",
       "  'Author': 'Liu et al.',\n",
       "  'Published_year': 2024},\n",
       " {'Paper_title': 'Carbon footprint evaluation of coal-to-methanol chain with the hierarchical attribution management and life cycle assessment',\n",
       "  'Author': 'Qin et al.',\n",
       "  'Published_year': 2016}]"
      ]
     },
     "execution_count": 9,
     "metadata": {},
     "output_type": "execute_result"
    }
   ],
   "source": [
    "#list all LCA papers for methanol\n",
    "cypher = \"\"\"\n",
    "    MATCH (tc:Target_Chemical {name: $Chemical})-[:Has_LCA_Studies]->(t:Paper_Title)\n",
    "    RETURN t.name as Paper_title, t.author as Author, t.published_year as Published_year\n",
    "  \"\"\"\n",
    "kg.query(cypher, params={\"Chemical\":\"Methanol\"})"
   ]
  },
  {
   "cell_type": "code",
   "execution_count": 10,
   "id": "531f1e0a-55d5-42d6-995a-ef3630029a77",
   "metadata": {},
   "outputs": [
    {
     "data": {
      "text/plain": [
       "[{'Pathway': 'Sugarcane bagasse-based pathway'},\n",
       " {'Pathway': 'Coal-to-methanol pathway'},\n",
       " {'Pathway': 'Conventional pathway (steam methane reforming)'},\n",
       " {'Pathway': 'Photocatalytic pathway'},\n",
       " {'Pathway': 'Natural gas to methanol pathway'},\n",
       " {'Pathway': 'Solid Recovered Fuel and Lignite to methanol pathway (case3)'},\n",
       " {'Pathway': 'Solid Recovered Fuel and Lignite to methanol pathway (case2)'},\n",
       " {'Pathway': 'Solid Recovered Fuel and Lignite to methanol pathway (case1)'},\n",
       " {'Pathway': 'PV/CCU-CH3OH technical pathway'},\n",
       " {'Pathway': 'NG-CH3OH technical pathway'},\n",
       " {'Pathway': 'Coal-CH3OH technical pathway'},\n",
       " {'Pathway': 'Natural gas-based pathway'},\n",
       " {'Pathway': 'Coal-based pathway'},\n",
       " {'Pathway': 'Coke oven gas (COG)-based pathway'},\n",
       " {'Pathway': 'Electrochemical CO2 reduction pathway (with recycling)'},\n",
       " {'Pathway': 'Thermochemical hydrogenation of CO2 pathway (with recycling)'},\n",
       " {'Pathway': 'Conventional pathway (natural gas-based)'},\n",
       " {'Pathway': 'Coal gasification pathway'},\n",
       " {'Pathway': 'Biomass-to-methanol (BTM) pathway'},\n",
       " {'Pathway': 'Coal-to-methanol (CTM) pathway'},\n",
       " {'Pathway': 'Hydrogenation conversion pathway'},\n",
       " {'Pathway': 'Photocatalytic conversion pathway'},\n",
       " {'Pathway': 'Natural gas pathway'},\n",
       " {'Pathway': 'Olive pomace gasification pathway'},\n",
       " {'Pathway': 'Electrochemical reduction of CO2 pathway (AER)'},\n",
       " {'Pathway': 'Direct hydrogenation of CO2 pathway (ADH)'},\n",
       " {'Pathway': 'Conventional natural gas-based pathway (ACONV)'},\n",
       " {'Pathway': 'Coal gasification and coal coking pathway.'},\n",
       " {'Pathway': 'Rice straw-based pathway'},\n",
       " {'Pathway': 'CO2 Capture to MeOH (CCTM)'},\n",
       " {'Pathway': 'Biomass to MeOH (BOTM)'},\n",
       " {'Pathway': 'Natural Gas to MeOH (NGTM)'},\n",
       " {'Pathway': 'Coal Coking to MeOH (COTM)'},\n",
       " {'Pathway': 'Coal Gasification to MeOH (CGTM)'}]"
      ]
     },
     "execution_count": 10,
     "metadata": {},
     "output_type": "execute_result"
    }
   ],
   "source": [
    "#list all synthesis pathways for methanol\n",
    "cypher = \"\"\"\n",
    "    MATCH (tc:Target_Chemical {name: $Chemical})-[*]->(p:Pathway)\n",
    "    RETURN p.name AS Pathway\n",
    "  \"\"\"\n",
    "kg.query(cypher, params={\"Chemical\":\"Methanol\"})"
   ]
  },
  {
   "cell_type": "code",
   "execution_count": 11,
   "id": "d6bf8eb6-a839-406f-bf23-a38ba4b8aa08",
   "metadata": {},
   "outputs": [
    {
     "name": "stdout",
     "output_type": "stream",
     "text": [
      "                                   Flow name             Type   Quantity Unit  \\\n",
      "0                                       Slag  Has_Output_Flow   410.0000    g   \n",
      "1                                        SO2  Has_Output_Flow     0.5240    g   \n",
      "2                                       PM10  Has_Output_Flow     0.9300    g   \n",
      "3                                        NOx  Has_Output_Flow     0.9280    g   \n",
      "4                                        CO2  Has_Output_Flow  1830.0000    g   \n",
      "5                                        CH4  Has_Output_Flow     0.2340    g   \n",
      "6                                 Others VOC  Has_Output_Flow     0.0248    g   \n",
      "7                                CH3OH (VOC)  Has_Output_Flow     0.0649    g   \n",
      "8                                         CO  Has_Output_Flow     1.1200    g   \n",
      "9                               Residual gas  Has_Output_Flow    90.0000    g   \n",
      "10                                  Methanol  Has_Output_Flow     1.0000   kg   \n",
      "11                                    Syngas   Has_Input_Flow     4.2000   kg   \n",
      "12  Steam (conditions: 165 Â°C and 0.68 MPa)   Has_Input_Flow     1.7300   kg   \n",
      "13                               Electricity   Has_Input_Flow     0.0930  kWh   \n",
      "\n",
      "    Is Reference Flow  \n",
      "0               False  \n",
      "1               False  \n",
      "2               False  \n",
      "3               False  \n",
      "4               False  \n",
      "5               False  \n",
      "6               False  \n",
      "7               False  \n",
      "8               False  \n",
      "9               False  \n",
      "10               True  \n",
      "11              False  \n",
      "12              False  \n",
      "13              False  \n"
     ]
    }
   ],
   "source": [
    "#query inventory data for the specific synthesis pathway (e.g., Sugarcane bagasse-based pathway)\n",
    "cypher = \"\"\"\n",
    "    MATCH (tc:Target_Chemical {name: $Chemical})-[*]->(p:Pathway {name:$Pathway}),\n",
    "          (p)-[:Has_Activity]->(a:Activity)-[r]->(f:Flow), (f)-[:Has_Value]-(q:Amount)-[:Has_Unit]->(u:Unit)\n",
    "    RETURN r,f,q,u\n",
    "  \"\"\"\n",
    "data = kg.query(cypher, params={\"Chemical\":\"Methanol\", \"Pathway\": \"Sugarcane bagasse-based pathway\"})\n",
    "\n",
    "if not data:\n",
    "    print(\"Not found LCI data\")\n",
    "else:\n",
    "    df = pd.DataFrame({\n",
    "        'Flow name': [item['f']['name'] for item in data],\n",
    "        'Type': [item['r'][1] for item in data],\n",
    "        'Quantity': [item['q']['name'] for item in data],\n",
    "        'Unit': [item['u']['name'] for item in data],\n",
    "        'Is Reference Flow': [item['f']['is_reference_flow'] for item in data]\n",
    "    })\n",
    "    print(df)"
   ]
  },
  {
   "cell_type": "markdown",
   "id": "4bfa7d22-1b79-4c83-b540-e9e739b93840",
   "metadata": {},
   "source": [
    "**2. Node embedding similar search**"
   ]
  },
  {
   "cell_type": "code",
   "execution_count": 13,
   "id": "530d0e2f-395a-4ffd-b1b1-ccb4b15aaf1c",
   "metadata": {},
   "outputs": [
    {
     "name": "stderr",
     "output_type": "stream",
     "text": [
      "Received notification from DBMS server: {severity: WARNING} {code: Neo.ClientNotification.Statement.FeatureDeprecationWarning} {category: DEPRECATION} {title: This feature is deprecated and will be removed in future versions.} {description: The query used a deprecated procedure. ('db.create.setVectorProperty' has been replaced by 'db.create.setNodeVectorProperty')} {position: line: 1, column: 69, offset: 68} for query: \"UNWIND $data AS row MATCH (n:`Pathway`) WHERE elementId(n) = row.id CALL db.create.setVectorProperty(n, 'pathway_embedding', row.embedding) YIELD node RETURN count(*)\"\n"
     ]
    }
   ],
   "source": [
    "#create an embedding index for the selected node\n",
    "index = Neo4jVector.from_existing_graph(\n",
    "    OpenAIEmbeddings(openai_api_key=openai_api_key),\n",
    "    url=NEO4J_URL,\n",
    "    username=NEO4J_USERNAME,\n",
    "    password=NEO4J_PASSWORD,\n",
    "    index_name='pathway',\n",
    "    node_label=\"Pathway\",  \n",
    "    text_node_properties=['name', 'target_product'],\n",
    "    embedding_node_property='pathway_embedding', \n",
    ")"
   ]
  },
  {
   "cell_type": "code",
   "execution_count": 14,
   "id": "51090791-9fd7-4d02-b3c6-0a4a921a6dfd",
   "metadata": {},
   "outputs": [
    {
     "name": "stdout",
     "output_type": "stream",
     "text": [
      "Node label: Pathway\n",
      "Embedding property: pathway_embedding\n"
     ]
    }
   ],
   "source": [
    "print(\"Node label:\", index.node_label)\n",
    "print(\"Embedding property:\", index.embedding_node_property)"
   ]
  },
  {
   "cell_type": "code",
   "execution_count": 18,
   "id": "34e876fa-0852-4d31-93cd-4fa1076bbe1d",
   "metadata": {
    "scrolled": true
   },
   "outputs": [
    {
     "data": {
      "text/plain": [
       "[Document(page_content='\\nname: Biomass-to-methanol (BTM) pathway\\ntarget_product: ', metadata={'Target_product': 'Methanol', 'Inventory_ID': '[10-2]'}),\n",
       " Document(page_content='\\nname: Biomass to MeOH (BOTM)\\ntarget_product: ', metadata={'Target_product': 'Methanol', 'Inventory_ID': '[2-4]'}),\n",
       " Document(page_content='\\nname: Natural gas to methanol pathway\\ntarget_product: ', metadata={'Target_product': 'Methanol', 'Inventory_ID': '[21-4]'}),\n",
       " Document(page_content='\\nname: Solid Recovered Fuel and Lignite to methanol pathway (case2)\\ntarget_product: ', metadata={'Target_product': 'Methanol', 'Inventory_ID': '[21-2]'})]"
      ]
     },
     "execution_count": 18,
     "metadata": {},
     "output_type": "execute_result"
    }
   ],
   "source": [
    "response = index.similarity_search(\"biomass to methanol\")\n",
    "response"
   ]
  },
  {
   "cell_type": "markdown",
   "id": "1eefab74-30a9-4ec8-be76-7757998a7c6a",
   "metadata": {},
   "source": [
    "**3. Q & A system**"
   ]
  },
  {
   "cell_type": "code",
   "execution_count": 19,
   "id": "08fdb6a0-7497-4188-bfaa-1751eacdfa0a",
   "metadata": {},
   "outputs": [],
   "source": [
    "#Cypher generation prompt\n",
    "CYPHER_GENERATION_TEMPLATE = \"\"\"Task:Generate Cypher statement to \n",
    "query a graph database.\n",
    "Instructions:\n",
    "[1] Use only the provided relationship types and properties in the \n",
    "schema. Do not use any other relationship types or properties that \n",
    "are not provided.\n",
    "Schema:\n",
    "{schema}\n",
    "Note: \n",
    "[1] Do not include any explanations or apologies in your responses.\n",
    "Do not respond to any questions that might ask anything else than \n",
    "for you to construct a Cypher statement.\n",
    "Do not include any text except the generated Cypher statement.\n",
    "[2] The functional unit includes FunctionalUnit_Quantity, FunctionalUnit_Unit, and FunctionalUnit_Product.\n",
    "[3] The inventory (or input-output) data represents all input and output Flows of Activity. They includes Flow name, Amount, Unit, and 'Has_input/Has_output' relationship.\n",
    "Given the returned text, please categorize the following flows as input and output (based on 'Has_input/Has_output' relationship), along with their respective amounts and units.\n",
    "\n",
    "Examples: Here are a few examples of generated Cypher \n",
    "statements for particular questions:\n",
    "# What chemicals are in the CLCIKG database?\n",
    "MATCH (d:Database)-[:Has_Chemical_Names]->(c:Target_Chemical)\n",
    "    WHERE d.name = 'C-LCIKG'\n",
    "RETURN c.name\n",
    "\n",
    "#The inventory data for 'Lebedev process pathway' pathway of the '1,3-Butadiene production' activity.\n",
    "MATCH (p:Pathway {{name: 'Lebedev process pathway'}})-[:Has_Activity]->(a:Activity {{name: '1,3-Butadiene production'}})-[o:Has_Output_Flow|Has_Input_Flow]->(f:Flow), (f)-[:Has_Value]-(q:Amount)-[:Has_Unit]->(u:Unit)\n",
    "RETURN f.name, q.name, u.name, o.name\n",
    "\n",
    "The question is:\n",
    "{question}\"\"\""
   ]
  },
  {
   "cell_type": "code",
   "execution_count": 20,
   "id": "d87fea37-1487-49cd-a85d-c52ab7bd1711",
   "metadata": {},
   "outputs": [],
   "source": [
    "CYPHER_GENERATION_PROMPT = PromptTemplate(\n",
    "    input_variables=[\"schema\", \"question\"], \n",
    "    template=CYPHER_GENERATION_TEMPLATE\n",
    ")"
   ]
  },
  {
   "cell_type": "code",
   "execution_count": 21,
   "id": "e7f4895b-35ea-482a-b236-d589a8c2d545",
   "metadata": {},
   "outputs": [],
   "source": [
    "cypherChain = GraphCypherQAChain.from_llm(\n",
    "    ChatOpenAI( model=\"gpt-4o\", temperature=0, openai_api_key=openai_api_key),\n",
    "    graph=kg,\n",
    "    verbose=True,\n",
    "    cypher_prompt=CYPHER_GENERATION_PROMPT,\n",
    ")"
   ]
  },
  {
   "cell_type": "code",
   "execution_count": 22,
   "id": "65dc1aef-6311-4cc4-a7a3-0b014c52ebc8",
   "metadata": {},
   "outputs": [
    {
     "name": "stderr",
     "output_type": "stream",
     "text": [
      "D:\\Software\\Anaconda\\envs\\LCI-extraction\\Lib\\site-packages\\langchain_core\\_api\\deprecation.py:139: LangChainDeprecationWarning: The method `Chain.run` was deprecated in langchain 0.1.0 and will be removed in 0.3.0. Use invoke instead.\n",
      "  warn_deprecated(\n"
     ]
    },
    {
     "name": "stdout",
     "output_type": "stream",
     "text": [
      "\n",
      "\n",
      "\u001b[1m> Entering new GraphCypherQAChain chain...\u001b[0m\n",
      "Generated Cypher:\n",
      "\u001b[32;1m\u001b[1;3mMATCH (p:Pathway {name: 'Natural gas to methanol pathway'})-[:Has_Activity]->(a:Activity {name: 'Methanol production'})-[o:Has_Output_Flow|Has_Input_Flow]->(f:Flow), (f)-[:Has_Value]-(q:Amount)-[:Has_Unit]->(u:Unit)\n",
      "RETURN f.name, q.name, u.name, o.name\u001b[0m\n",
      "Full Context:\n",
      "\u001b[32;1m\u001b[1;3m[{'f.name': 'Methanol', 'q.name': 1.0, 'u.name': 'kg', 'o.name': 'Has_Output_Flow'}, {'f.name': 'Nitrogen', 'q.name': 0.0042, 'u.name': 'kg', 'o.name': 'Has_Output_Flow'}, {'f.name': 'Methanol', 'q.name': 0.0004, 'u.name': 'kg', 'o.name': 'Has_Output_Flow'}, {'f.name': 'Hydrogen', 'q.name': 0.0791, 'u.name': 'kg', 'o.name': 'Has_Output_Flow'}, {'f.name': 'Carbon dioxide', 'q.name': 0.0052, 'u.name': 'kg', 'o.name': 'Has_Output_Flow'}, {'f.name': 'Carbon monoxide', 'q.name': 0.1224, 'u.name': 'kg', 'o.name': 'Has_Output_Flow'}, {'f.name': 'Electricity', 'q.name': 0.447, 'u.name': 'MJ', 'o.name': 'Has_Input_Flow'}, {'f.name': 'Clean gas', 'q.name': 1.2116, 'u.name': 'kg', 'o.name': 'Has_Input_Flow'}]\u001b[0m\n",
      "\n",
      "\u001b[1m> Finished chain.\u001b[0m\n"
     ]
    },
    {
     "data": {
      "text/plain": [
       "\"The inventory table for 'Natural gas to methanol pathway' of the 'Methanol production' activity includes the following:\\n\\n**Output Flows:**\\n- Methanol: 1.0 kg\\n- Nitrogen: 0.0042 kg\\n- Methanol: 0.0004 kg\\n- Hydrogen: 0.0791 kg\\n- Carbon dioxide: 0.0052 kg\\n- Carbon monoxide: 0.1224 kg\\n\\n**Input Flows:**\\n- Electricity: 0.447 MJ\\n- Clean gas: 1.2116 kg\""
      ]
     },
     "execution_count": 22,
     "metadata": {},
     "output_type": "execute_result"
    }
   ],
   "source": [
    "question = \"The inventory table for 'Natural gas to methanol pathway' of the 'Methanol production' activity\"\n",
    "response = cypherChain.run(question)\n",
    "response"
   ]
  },
  {
   "cell_type": "code",
   "execution_count": null,
   "id": "461d899e-5910-4706-b4ca-7f211364a6a4",
   "metadata": {},
   "outputs": [],
   "source": []
  }
 ],
 "metadata": {
  "kernelspec": {
   "display_name": "Python 3 (ipykernel)",
   "language": "python",
   "name": "python3"
  },
  "language_info": {
   "codemirror_mode": {
    "name": "ipython",
    "version": 3
   },
   "file_extension": ".py",
   "mimetype": "text/x-python",
   "name": "python",
   "nbconvert_exporter": "python",
   "pygments_lexer": "ipython3",
   "version": "3.12.3"
  }
 },
 "nbformat": 4,
 "nbformat_minor": 5
}
